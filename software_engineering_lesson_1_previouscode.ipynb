{
 "cells": [
  {
   "cell_type": "markdown",
   "metadata": {},
   "source": [
    "# Software Engineering for Analytics Professionals - Lesson 1\n",
    "\n",
    "The aim of this course is to teach Software Engineering for Industry to MSBA Students in 2019-2020. This first lesson is an introduction to python & pandas, while using retail data and questions."
   ]
  },
  {
   "cell_type": "markdown",
   "metadata": {},
   "source": [
    "## Import libraries"
   ]
  },
  {
   "cell_type": "code",
   "execution_count": 1,
   "metadata": {},
   "outputs": [],
   "source": [
    "import datetime\n",
    "import numpy as np\n",
    "import matplotlib.pyplot as plt\n",
    "import matplotlib\n",
    "import os\n",
    "import pandas as pd\n",
    "import scipy.cluster.hierarchy as hac\n",
    "import scipy.spatial.distance as scipydist"
   ]
  },
  {
   "cell_type": "markdown",
   "metadata": {},
   "source": [
    "## Constants and connections"
   ]
  },
  {
   "cell_type": "code",
   "execution_count": 2,
   "metadata": {},
   "outputs": [],
   "source": [
    "font_size = 18\n",
    "\n",
    "output_dr = 'output_MSBA_2019_2020'\n",
    "    \n",
    "if not os.path.exists(output_dr):\n",
    "    os.mkdir(output_dr)"
   ]
  },
  {
   "cell_type": "markdown",
   "metadata": {},
   "source": [
    "## Pre-class exercise\n",
    "\n",
    "The dataset contains daily dollar sales and profit for four product categories at a retail chain in 2017. Margin is defined as profit divided by sales. Normalized margin is defined as daily profit divided by average daily sale. We normalize profit over a year to avoid seasonal differences within a product category.\n",
    "\n",
    "What is the normalized margin for Category X on Halloween (Oct 31)? Your answer needs to be accurate to two decimal places."
   ]
  },
  {
   "cell_type": "code",
   "execution_count": 3,
   "metadata": {},
   "outputs": [],
   "source": [
    "# Loads the dataset\n",
    "sales_df = pd.read_csv(os.path.join(output_dr,'retail_sales_2017.csv'))"
   ]
  },
  {
   "cell_type": "code",
   "execution_count": 4,
   "metadata": {},
   "outputs": [
    {
     "data": {
      "text/html": [
       "<div>\n",
       "<style scoped>\n",
       "    .dataframe tbody tr th:only-of-type {\n",
       "        vertical-align: middle;\n",
       "    }\n",
       "\n",
       "    .dataframe tbody tr th {\n",
       "        vertical-align: top;\n",
       "    }\n",
       "\n",
       "    .dataframe thead th {\n",
       "        text-align: right;\n",
       "    }\n",
       "</style>\n",
       "<table border=\"1\" class=\"dataframe\">\n",
       "  <thead>\n",
       "    <tr style=\"text-align: right;\">\n",
       "      <th></th>\n",
       "      <th>DATE</th>\n",
       "      <th>CATEGORY</th>\n",
       "      <th>PROFIT</th>\n",
       "      <th>SALES</th>\n",
       "    </tr>\n",
       "  </thead>\n",
       "  <tbody>\n",
       "    <tr>\n",
       "      <th>0</th>\n",
       "      <td>2017-01-01</td>\n",
       "      <td>A</td>\n",
       "      <td>415</td>\n",
       "      <td>1099</td>\n",
       "    </tr>\n",
       "    <tr>\n",
       "      <th>1</th>\n",
       "      <td>2017-01-01</td>\n",
       "      <td>B</td>\n",
       "      <td>313</td>\n",
       "      <td>916</td>\n",
       "    </tr>\n",
       "    <tr>\n",
       "      <th>2</th>\n",
       "      <td>2017-01-01</td>\n",
       "      <td>C</td>\n",
       "      <td>320</td>\n",
       "      <td>1062</td>\n",
       "    </tr>\n",
       "    <tr>\n",
       "      <th>3</th>\n",
       "      <td>2017-01-01</td>\n",
       "      <td>D</td>\n",
       "      <td>675</td>\n",
       "      <td>1725</td>\n",
       "    </tr>\n",
       "    <tr>\n",
       "      <th>4</th>\n",
       "      <td>2017-01-02</td>\n",
       "      <td>A</td>\n",
       "      <td>37834</td>\n",
       "      <td>103605</td>\n",
       "    </tr>\n",
       "  </tbody>\n",
       "</table>\n",
       "</div>"
      ],
      "text/plain": [
       "         DATE CATEGORY  PROFIT   SALES\n",
       "0  2017-01-01        A     415    1099\n",
       "1  2017-01-01        B     313     916\n",
       "2  2017-01-01        C     320    1062\n",
       "3  2017-01-01        D     675    1725\n",
       "4  2017-01-02        A   37834  103605"
      ]
     },
     "execution_count": 4,
     "metadata": {},
     "output_type": "execute_result"
    }
   ],
   "source": [
    "sales_df.head()"
   ]
  },
  {
   "cell_type": "code",
   "execution_count": 5,
   "metadata": {},
   "outputs": [],
   "source": [
    "# Computes avg daily sales per category\n",
    "avg_category_sales = sales_df[['CATEGORY', 'SALES']].groupby('CATEGORY', as_index=False).mean()"
   ]
  },
  {
   "cell_type": "code",
   "execution_count": 6,
   "metadata": {},
   "outputs": [
    {
     "data": {
      "text/html": [
       "<div>\n",
       "<style scoped>\n",
       "    .dataframe tbody tr th:only-of-type {\n",
       "        vertical-align: middle;\n",
       "    }\n",
       "\n",
       "    .dataframe tbody tr th {\n",
       "        vertical-align: top;\n",
       "    }\n",
       "\n",
       "    .dataframe thead th {\n",
       "        text-align: right;\n",
       "    }\n",
       "</style>\n",
       "<table border=\"1\" class=\"dataframe\">\n",
       "  <thead>\n",
       "    <tr style=\"text-align: right;\">\n",
       "      <th></th>\n",
       "      <th>CATEGORY</th>\n",
       "      <th>SALES</th>\n",
       "    </tr>\n",
       "  </thead>\n",
       "  <tbody>\n",
       "    <tr>\n",
       "      <th>0</th>\n",
       "      <td>A</td>\n",
       "      <td>84487.302198</td>\n",
       "    </tr>\n",
       "    <tr>\n",
       "      <th>1</th>\n",
       "      <td>B</td>\n",
       "      <td>71939.708791</td>\n",
       "    </tr>\n",
       "    <tr>\n",
       "      <th>2</th>\n",
       "      <td>C</td>\n",
       "      <td>68585.978022</td>\n",
       "    </tr>\n",
       "    <tr>\n",
       "      <th>3</th>\n",
       "      <td>D</td>\n",
       "      <td>107390.123626</td>\n",
       "    </tr>\n",
       "  </tbody>\n",
       "</table>\n",
       "</div>"
      ],
      "text/plain": [
       "  CATEGORY          SALES\n",
       "0        A   84487.302198\n",
       "1        B   71939.708791\n",
       "2        C   68585.978022\n",
       "3        D  107390.123626"
      ]
     },
     "execution_count": 6,
     "metadata": {},
     "output_type": "execute_result"
    }
   ],
   "source": [
    "avg_category_sales"
   ]
  },
  {
   "cell_type": "code",
   "execution_count": 7,
   "metadata": {},
   "outputs": [],
   "source": [
    "# Renames sales column\n",
    "avg_category_sales.rename(columns={'SALES': 'AVG_SALES'}, inplace=True)"
   ]
  },
  {
   "cell_type": "code",
   "execution_count": 8,
   "metadata": {},
   "outputs": [
    {
     "data": {
      "text/html": [
       "<div>\n",
       "<style scoped>\n",
       "    .dataframe tbody tr th:only-of-type {\n",
       "        vertical-align: middle;\n",
       "    }\n",
       "\n",
       "    .dataframe tbody tr th {\n",
       "        vertical-align: top;\n",
       "    }\n",
       "\n",
       "    .dataframe thead th {\n",
       "        text-align: right;\n",
       "    }\n",
       "</style>\n",
       "<table border=\"1\" class=\"dataframe\">\n",
       "  <thead>\n",
       "    <tr style=\"text-align: right;\">\n",
       "      <th></th>\n",
       "      <th>CATEGORY</th>\n",
       "      <th>AVG_SALES</th>\n",
       "    </tr>\n",
       "  </thead>\n",
       "  <tbody>\n",
       "    <tr>\n",
       "      <th>0</th>\n",
       "      <td>A</td>\n",
       "      <td>84487.302198</td>\n",
       "    </tr>\n",
       "    <tr>\n",
       "      <th>1</th>\n",
       "      <td>B</td>\n",
       "      <td>71939.708791</td>\n",
       "    </tr>\n",
       "    <tr>\n",
       "      <th>2</th>\n",
       "      <td>C</td>\n",
       "      <td>68585.978022</td>\n",
       "    </tr>\n",
       "    <tr>\n",
       "      <th>3</th>\n",
       "      <td>D</td>\n",
       "      <td>107390.123626</td>\n",
       "    </tr>\n",
       "  </tbody>\n",
       "</table>\n",
       "</div>"
      ],
      "text/plain": [
       "  CATEGORY      AVG_SALES\n",
       "0        A   84487.302198\n",
       "1        B   71939.708791\n",
       "2        C   68585.978022\n",
       "3        D  107390.123626"
      ]
     },
     "execution_count": 8,
     "metadata": {},
     "output_type": "execute_result"
    }
   ],
   "source": [
    "avg_category_sales.head()"
   ]
  },
  {
   "cell_type": "code",
   "execution_count": 9,
   "metadata": {},
   "outputs": [],
   "source": [
    "# Merges the daily sales dataframe with average daily sales  \n",
    "sales_df = pd.merge(sales_df, avg_category_sales, on='CATEGORY')"
   ]
  },
  {
   "cell_type": "code",
   "execution_count": 10,
   "metadata": {},
   "outputs": [
    {
     "data": {
      "text/html": [
       "<div>\n",
       "<style scoped>\n",
       "    .dataframe tbody tr th:only-of-type {\n",
       "        vertical-align: middle;\n",
       "    }\n",
       "\n",
       "    .dataframe tbody tr th {\n",
       "        vertical-align: top;\n",
       "    }\n",
       "\n",
       "    .dataframe thead th {\n",
       "        text-align: right;\n",
       "    }\n",
       "</style>\n",
       "<table border=\"1\" class=\"dataframe\">\n",
       "  <thead>\n",
       "    <tr style=\"text-align: right;\">\n",
       "      <th></th>\n",
       "      <th>DATE</th>\n",
       "      <th>CATEGORY</th>\n",
       "      <th>PROFIT</th>\n",
       "      <th>SALES</th>\n",
       "      <th>AVG_SALES</th>\n",
       "    </tr>\n",
       "  </thead>\n",
       "  <tbody>\n",
       "    <tr>\n",
       "      <th>0</th>\n",
       "      <td>2017-01-01</td>\n",
       "      <td>A</td>\n",
       "      <td>415</td>\n",
       "      <td>1099</td>\n",
       "      <td>84487.302198</td>\n",
       "    </tr>\n",
       "    <tr>\n",
       "      <th>1</th>\n",
       "      <td>2017-01-02</td>\n",
       "      <td>A</td>\n",
       "      <td>37834</td>\n",
       "      <td>103605</td>\n",
       "      <td>84487.302198</td>\n",
       "    </tr>\n",
       "    <tr>\n",
       "      <th>2</th>\n",
       "      <td>2017-01-03</td>\n",
       "      <td>A</td>\n",
       "      <td>34067</td>\n",
       "      <td>93784</td>\n",
       "      <td>84487.302198</td>\n",
       "    </tr>\n",
       "    <tr>\n",
       "      <th>3</th>\n",
       "      <td>2017-01-04</td>\n",
       "      <td>A</td>\n",
       "      <td>26478</td>\n",
       "      <td>72773</td>\n",
       "      <td>84487.302198</td>\n",
       "    </tr>\n",
       "    <tr>\n",
       "      <th>4</th>\n",
       "      <td>2017-01-05</td>\n",
       "      <td>A</td>\n",
       "      <td>36847</td>\n",
       "      <td>105566</td>\n",
       "      <td>84487.302198</td>\n",
       "    </tr>\n",
       "  </tbody>\n",
       "</table>\n",
       "</div>"
      ],
      "text/plain": [
       "         DATE CATEGORY  PROFIT   SALES     AVG_SALES\n",
       "0  2017-01-01        A     415    1099  84487.302198\n",
       "1  2017-01-02        A   37834  103605  84487.302198\n",
       "2  2017-01-03        A   34067   93784  84487.302198\n",
       "3  2017-01-04        A   26478   72773  84487.302198\n",
       "4  2017-01-05        A   36847  105566  84487.302198"
      ]
     },
     "execution_count": 10,
     "metadata": {},
     "output_type": "execute_result"
    }
   ],
   "source": [
    "sales_df.head()"
   ]
  },
  {
   "cell_type": "code",
   "execution_count": 11,
   "metadata": {},
   "outputs": [],
   "source": [
    "# Computes normalized margine\n",
    "sales_df['MARGIN'] = sales_df['PROFIT'].div(sales_df['AVG_SALES'])"
   ]
  },
  {
   "cell_type": "code",
   "execution_count": 12,
   "metadata": {},
   "outputs": [
    {
     "data": {
      "text/html": [
       "<div>\n",
       "<style scoped>\n",
       "    .dataframe tbody tr th:only-of-type {\n",
       "        vertical-align: middle;\n",
       "    }\n",
       "\n",
       "    .dataframe tbody tr th {\n",
       "        vertical-align: top;\n",
       "    }\n",
       "\n",
       "    .dataframe thead th {\n",
       "        text-align: right;\n",
       "    }\n",
       "</style>\n",
       "<table border=\"1\" class=\"dataframe\">\n",
       "  <thead>\n",
       "    <tr style=\"text-align: right;\">\n",
       "      <th></th>\n",
       "      <th>DATE</th>\n",
       "      <th>CATEGORY</th>\n",
       "      <th>PROFIT</th>\n",
       "      <th>SALES</th>\n",
       "      <th>AVG_SALES</th>\n",
       "      <th>MARGIN</th>\n",
       "    </tr>\n",
       "  </thead>\n",
       "  <tbody>\n",
       "    <tr>\n",
       "      <th>0</th>\n",
       "      <td>2017-01-01</td>\n",
       "      <td>A</td>\n",
       "      <td>415</td>\n",
       "      <td>1099</td>\n",
       "      <td>84487.302198</td>\n",
       "      <td>0.004912</td>\n",
       "    </tr>\n",
       "    <tr>\n",
       "      <th>1</th>\n",
       "      <td>2017-01-02</td>\n",
       "      <td>A</td>\n",
       "      <td>37834</td>\n",
       "      <td>103605</td>\n",
       "      <td>84487.302198</td>\n",
       "      <td>0.447807</td>\n",
       "    </tr>\n",
       "    <tr>\n",
       "      <th>2</th>\n",
       "      <td>2017-01-03</td>\n",
       "      <td>A</td>\n",
       "      <td>34067</td>\n",
       "      <td>93784</td>\n",
       "      <td>84487.302198</td>\n",
       "      <td>0.403220</td>\n",
       "    </tr>\n",
       "    <tr>\n",
       "      <th>3</th>\n",
       "      <td>2017-01-04</td>\n",
       "      <td>A</td>\n",
       "      <td>26478</td>\n",
       "      <td>72773</td>\n",
       "      <td>84487.302198</td>\n",
       "      <td>0.313396</td>\n",
       "    </tr>\n",
       "    <tr>\n",
       "      <th>4</th>\n",
       "      <td>2017-01-05</td>\n",
       "      <td>A</td>\n",
       "      <td>36847</td>\n",
       "      <td>105566</td>\n",
       "      <td>84487.302198</td>\n",
       "      <td>0.436125</td>\n",
       "    </tr>\n",
       "  </tbody>\n",
       "</table>\n",
       "</div>"
      ],
      "text/plain": [
       "         DATE CATEGORY  PROFIT   SALES     AVG_SALES    MARGIN\n",
       "0  2017-01-01        A     415    1099  84487.302198  0.004912\n",
       "1  2017-01-02        A   37834  103605  84487.302198  0.447807\n",
       "2  2017-01-03        A   34067   93784  84487.302198  0.403220\n",
       "3  2017-01-04        A   26478   72773  84487.302198  0.313396\n",
       "4  2017-01-05        A   36847  105566  84487.302198  0.436125"
      ]
     },
     "execution_count": 12,
     "metadata": {},
     "output_type": "execute_result"
    }
   ],
   "source": [
    "sales_df.head()"
   ]
  },
  {
   "cell_type": "code",
   "execution_count": 13,
   "metadata": {},
   "outputs": [
    {
     "data": {
      "text/html": [
       "<div>\n",
       "<style scoped>\n",
       "    .dataframe tbody tr th:only-of-type {\n",
       "        vertical-align: middle;\n",
       "    }\n",
       "\n",
       "    .dataframe tbody tr th {\n",
       "        vertical-align: top;\n",
       "    }\n",
       "\n",
       "    .dataframe thead th {\n",
       "        text-align: right;\n",
       "    }\n",
       "</style>\n",
       "<table border=\"1\" class=\"dataframe\">\n",
       "  <thead>\n",
       "    <tr style=\"text-align: right;\">\n",
       "      <th></th>\n",
       "      <th>DATE</th>\n",
       "      <th>CATEGORY</th>\n",
       "      <th>PROFIT</th>\n",
       "      <th>SALES</th>\n",
       "      <th>AVG_SALES</th>\n",
       "      <th>MARGIN</th>\n",
       "    </tr>\n",
       "  </thead>\n",
       "  <tbody>\n",
       "    <tr>\n",
       "      <th>303</th>\n",
       "      <td>2017-10-31</td>\n",
       "      <td>A</td>\n",
       "      <td>27251</td>\n",
       "      <td>73532</td>\n",
       "      <td>84487.302198</td>\n",
       "      <td>0.322546</td>\n",
       "    </tr>\n",
       "    <tr>\n",
       "      <th>667</th>\n",
       "      <td>2017-10-31</td>\n",
       "      <td>B</td>\n",
       "      <td>20505</td>\n",
       "      <td>52359</td>\n",
       "      <td>71939.708791</td>\n",
       "      <td>0.285030</td>\n",
       "    </tr>\n",
       "    <tr>\n",
       "      <th>1031</th>\n",
       "      <td>2017-10-31</td>\n",
       "      <td>C</td>\n",
       "      <td>19237</td>\n",
       "      <td>59273</td>\n",
       "      <td>68585.978022</td>\n",
       "      <td>0.280480</td>\n",
       "    </tr>\n",
       "    <tr>\n",
       "      <th>1395</th>\n",
       "      <td>2017-10-31</td>\n",
       "      <td>D</td>\n",
       "      <td>33902</td>\n",
       "      <td>79632</td>\n",
       "      <td>107390.123626</td>\n",
       "      <td>0.315690</td>\n",
       "    </tr>\n",
       "  </tbody>\n",
       "</table>\n",
       "</div>"
      ],
      "text/plain": [
       "            DATE CATEGORY  PROFIT  SALES      AVG_SALES    MARGIN\n",
       "303   2017-10-31        A   27251  73532   84487.302198  0.322546\n",
       "667   2017-10-31        B   20505  52359   71939.708791  0.285030\n",
       "1031  2017-10-31        C   19237  59273   68585.978022  0.280480\n",
       "1395  2017-10-31        D   33902  79632  107390.123626  0.315690"
      ]
     },
     "execution_count": 13,
     "metadata": {},
     "output_type": "execute_result"
    }
   ],
   "source": [
    "# The quiz answer\n",
    "sales_df[sales_df['DATE'] == '2017-10-31']"
   ]
  },
  {
   "cell_type": "markdown",
   "metadata": {},
   "source": [
    "## Cyclical demand \n",
    "\n",
    "Exploring which day of week has highest margin."
   ]
  },
  {
   "cell_type": "code",
   "execution_count": 14,
   "metadata": {},
   "outputs": [],
   "source": [
    "# Focuses on one category\n",
    "margin_one_category = sales_df.loc[sales_df['CATEGORY']=='A', ['DATE', 'MARGIN']].copy()"
   ]
  },
  {
   "cell_type": "code",
   "execution_count": 15,
   "metadata": {},
   "outputs": [
    {
     "data": {
      "text/html": [
       "<div>\n",
       "<style scoped>\n",
       "    .dataframe tbody tr th:only-of-type {\n",
       "        vertical-align: middle;\n",
       "    }\n",
       "\n",
       "    .dataframe tbody tr th {\n",
       "        vertical-align: top;\n",
       "    }\n",
       "\n",
       "    .dataframe thead th {\n",
       "        text-align: right;\n",
       "    }\n",
       "</style>\n",
       "<table border=\"1\" class=\"dataframe\">\n",
       "  <thead>\n",
       "    <tr style=\"text-align: right;\">\n",
       "      <th></th>\n",
       "      <th>DATE</th>\n",
       "      <th>MARGIN</th>\n",
       "    </tr>\n",
       "  </thead>\n",
       "  <tbody>\n",
       "    <tr>\n",
       "      <th>0</th>\n",
       "      <td>2017-01-01</td>\n",
       "      <td>0.004912</td>\n",
       "    </tr>\n",
       "    <tr>\n",
       "      <th>1</th>\n",
       "      <td>2017-01-02</td>\n",
       "      <td>0.447807</td>\n",
       "    </tr>\n",
       "    <tr>\n",
       "      <th>2</th>\n",
       "      <td>2017-01-03</td>\n",
       "      <td>0.403220</td>\n",
       "    </tr>\n",
       "    <tr>\n",
       "      <th>3</th>\n",
       "      <td>2017-01-04</td>\n",
       "      <td>0.313396</td>\n",
       "    </tr>\n",
       "    <tr>\n",
       "      <th>4</th>\n",
       "      <td>2017-01-05</td>\n",
       "      <td>0.436125</td>\n",
       "    </tr>\n",
       "  </tbody>\n",
       "</table>\n",
       "</div>"
      ],
      "text/plain": [
       "         DATE    MARGIN\n",
       "0  2017-01-01  0.004912\n",
       "1  2017-01-02  0.447807\n",
       "2  2017-01-03  0.403220\n",
       "3  2017-01-04  0.313396\n",
       "4  2017-01-05  0.436125"
      ]
     },
     "execution_count": 15,
     "metadata": {},
     "output_type": "execute_result"
    }
   ],
   "source": [
    "margin_one_category.head()"
   ]
  },
  {
   "cell_type": "code",
   "execution_count": 16,
   "metadata": {},
   "outputs": [],
   "source": [
    "# Converts to datetime type\n",
    "margin_one_category.loc[:, 'DATE'] = pd.to_datetime(margin_one_category['DATE'])"
   ]
  },
  {
   "cell_type": "code",
   "execution_count": 17,
   "metadata": {},
   "outputs": [],
   "source": [
    "# Finds the corresponding day of week\n",
    "margin_one_category['DAY_OF_WEEK'] = margin_one_category['DATE'].dt.weekday_name"
   ]
  },
  {
   "cell_type": "code",
   "execution_count": 18,
   "metadata": {},
   "outputs": [
    {
     "data": {
      "text/html": [
       "<div>\n",
       "<style scoped>\n",
       "    .dataframe tbody tr th:only-of-type {\n",
       "        vertical-align: middle;\n",
       "    }\n",
       "\n",
       "    .dataframe tbody tr th {\n",
       "        vertical-align: top;\n",
       "    }\n",
       "\n",
       "    .dataframe thead th {\n",
       "        text-align: right;\n",
       "    }\n",
       "</style>\n",
       "<table border=\"1\" class=\"dataframe\">\n",
       "  <thead>\n",
       "    <tr style=\"text-align: right;\">\n",
       "      <th></th>\n",
       "      <th>DATE</th>\n",
       "      <th>MARGIN</th>\n",
       "      <th>DAY_OF_WEEK</th>\n",
       "    </tr>\n",
       "  </thead>\n",
       "  <tbody>\n",
       "    <tr>\n",
       "      <th>0</th>\n",
       "      <td>2017-01-01</td>\n",
       "      <td>0.004912</td>\n",
       "      <td>Sunday</td>\n",
       "    </tr>\n",
       "    <tr>\n",
       "      <th>1</th>\n",
       "      <td>2017-01-02</td>\n",
       "      <td>0.447807</td>\n",
       "      <td>Monday</td>\n",
       "    </tr>\n",
       "    <tr>\n",
       "      <th>2</th>\n",
       "      <td>2017-01-03</td>\n",
       "      <td>0.403220</td>\n",
       "      <td>Tuesday</td>\n",
       "    </tr>\n",
       "    <tr>\n",
       "      <th>3</th>\n",
       "      <td>2017-01-04</td>\n",
       "      <td>0.313396</td>\n",
       "      <td>Wednesday</td>\n",
       "    </tr>\n",
       "    <tr>\n",
       "      <th>4</th>\n",
       "      <td>2017-01-05</td>\n",
       "      <td>0.436125</td>\n",
       "      <td>Thursday</td>\n",
       "    </tr>\n",
       "  </tbody>\n",
       "</table>\n",
       "</div>"
      ],
      "text/plain": [
       "        DATE    MARGIN DAY_OF_WEEK\n",
       "0 2017-01-01  0.004912      Sunday\n",
       "1 2017-01-02  0.447807      Monday\n",
       "2 2017-01-03  0.403220     Tuesday\n",
       "3 2017-01-04  0.313396   Wednesday\n",
       "4 2017-01-05  0.436125    Thursday"
      ]
     },
     "execution_count": 18,
     "metadata": {},
     "output_type": "execute_result"
    }
   ],
   "source": [
    "margin_one_category.head()"
   ]
  },
  {
   "cell_type": "code",
   "execution_count": 19,
   "metadata": {},
   "outputs": [],
   "source": [
    "avg_margin_day_of_week = margin_one_category[['DAY_OF_WEEK', 'MARGIN']].groupby('DAY_OF_WEEK').mean()"
   ]
  },
  {
   "cell_type": "code",
   "execution_count": 27,
   "metadata": {},
   "outputs": [
    {
     "data": {
      "text/html": [
       "<div>\n",
       "<style scoped>\n",
       "    .dataframe tbody tr th:only-of-type {\n",
       "        vertical-align: middle;\n",
       "    }\n",
       "\n",
       "    .dataframe tbody tr th {\n",
       "        vertical-align: top;\n",
       "    }\n",
       "\n",
       "    .dataframe thead th {\n",
       "        text-align: right;\n",
       "    }\n",
       "</style>\n",
       "<table border=\"1\" class=\"dataframe\">\n",
       "  <thead>\n",
       "    <tr style=\"text-align: right;\">\n",
       "      <th></th>\n",
       "      <th>MARGIN</th>\n",
       "    </tr>\n",
       "    <tr>\n",
       "      <th>DAY_OF_WEEK</th>\n",
       "      <th></th>\n",
       "    </tr>\n",
       "  </thead>\n",
       "  <tbody>\n",
       "    <tr>\n",
       "      <th>Friday</th>\n",
       "      <td>0.428681</td>\n",
       "    </tr>\n",
       "    <tr>\n",
       "      <th>Monday</th>\n",
       "      <td>0.298460</td>\n",
       "    </tr>\n",
       "    <tr>\n",
       "      <th>Saturday</th>\n",
       "      <td>0.486413</td>\n",
       "    </tr>\n",
       "    <tr>\n",
       "      <th>Sunday</th>\n",
       "      <td>0.351334</td>\n",
       "    </tr>\n",
       "    <tr>\n",
       "      <th>Thursday</th>\n",
       "      <td>0.382773</td>\n",
       "    </tr>\n",
       "    <tr>\n",
       "      <th>Tuesday</th>\n",
       "      <td>0.318045</td>\n",
       "    </tr>\n",
       "    <tr>\n",
       "      <th>Wednesday</th>\n",
       "      <td>0.310113</td>\n",
       "    </tr>\n",
       "  </tbody>\n",
       "</table>\n",
       "</div>"
      ],
      "text/plain": [
       "               MARGIN\n",
       "DAY_OF_WEEK          \n",
       "Friday       0.428681\n",
       "Monday       0.298460\n",
       "Saturday     0.486413\n",
       "Sunday       0.351334\n",
       "Thursday     0.382773\n",
       "Tuesday      0.318045\n",
       "Wednesday    0.310113"
      ]
     },
     "execution_count": 27,
     "metadata": {},
     "output_type": "execute_result"
    }
   ],
   "source": [
    "avg_margin_day_of_week"
   ]
  },
  {
   "cell_type": "code",
   "execution_count": 20,
   "metadata": {},
   "outputs": [],
   "source": [
    "avg_margin_day_of_week = avg_margin_day_of_week.reindex(\\\n",
    "                        [ 'Monday', 'Tuesday', 'Wednesday', 'Thursday', 'Friday', 'Saturday', 'Sunday'])"
   ]
  },
  {
   "cell_type": "code",
   "execution_count": 21,
   "metadata": {},
   "outputs": [
    {
     "data": {
      "text/html": [
       "<div>\n",
       "<style scoped>\n",
       "    .dataframe tbody tr th:only-of-type {\n",
       "        vertical-align: middle;\n",
       "    }\n",
       "\n",
       "    .dataframe tbody tr th {\n",
       "        vertical-align: top;\n",
       "    }\n",
       "\n",
       "    .dataframe thead th {\n",
       "        text-align: right;\n",
       "    }\n",
       "</style>\n",
       "<table border=\"1\" class=\"dataframe\">\n",
       "  <thead>\n",
       "    <tr style=\"text-align: right;\">\n",
       "      <th></th>\n",
       "      <th>MARGIN</th>\n",
       "    </tr>\n",
       "    <tr>\n",
       "      <th>DAY_OF_WEEK</th>\n",
       "      <th></th>\n",
       "    </tr>\n",
       "  </thead>\n",
       "  <tbody>\n",
       "    <tr>\n",
       "      <th>Monday</th>\n",
       "      <td>0.298460</td>\n",
       "    </tr>\n",
       "    <tr>\n",
       "      <th>Tuesday</th>\n",
       "      <td>0.318045</td>\n",
       "    </tr>\n",
       "    <tr>\n",
       "      <th>Wednesday</th>\n",
       "      <td>0.310113</td>\n",
       "    </tr>\n",
       "    <tr>\n",
       "      <th>Thursday</th>\n",
       "      <td>0.382773</td>\n",
       "    </tr>\n",
       "    <tr>\n",
       "      <th>Friday</th>\n",
       "      <td>0.428681</td>\n",
       "    </tr>\n",
       "    <tr>\n",
       "      <th>Saturday</th>\n",
       "      <td>0.486413</td>\n",
       "    </tr>\n",
       "    <tr>\n",
       "      <th>Sunday</th>\n",
       "      <td>0.351334</td>\n",
       "    </tr>\n",
       "  </tbody>\n",
       "</table>\n",
       "</div>"
      ],
      "text/plain": [
       "               MARGIN\n",
       "DAY_OF_WEEK          \n",
       "Monday       0.298460\n",
       "Tuesday      0.318045\n",
       "Wednesday    0.310113\n",
       "Thursday     0.382773\n",
       "Friday       0.428681\n",
       "Saturday     0.486413\n",
       "Sunday       0.351334"
      ]
     },
     "execution_count": 21,
     "metadata": {},
     "output_type": "execute_result"
    }
   ],
   "source": [
    "avg_margin_day_of_week"
   ]
  },
  {
   "cell_type": "code",
   "execution_count": 22,
   "metadata": {},
   "outputs": [
    {
     "data": {
      "image/png": "[encoded data removed]",
      "text/plain": [
       "<Figure size 432x288 with 1 Axes>"
      ]
     },
     "metadata": {
      "needs_background": "light"
     },
     "output_type": "display_data"
    }
   ],
   "source": [
    "avg_margin_day_of_week.plot(kind='bar');"
   ]
  },
  {
   "cell_type": "markdown",
   "metadata": {},
   "source": [
    "## Hierarchical clustering"
   ]
  },
  {
   "cell_type": "markdown",
   "metadata": {},
   "source": [
    "### Compute Pairwise distance"
   ]
  },
  {
   "cell_type": "code",
   "execution_count": 23,
   "metadata": {},
   "outputs": [
    {
     "data": {
      "text/html": [
       "<div>\n",
       "<style scoped>\n",
       "    .dataframe tbody tr th:only-of-type {\n",
       "        vertical-align: middle;\n",
       "    }\n",
       "\n",
       "    .dataframe tbody tr th {\n",
       "        vertical-align: top;\n",
       "    }\n",
       "\n",
       "    .dataframe thead th {\n",
       "        text-align: right;\n",
       "    }\n",
       "</style>\n",
       "<table border=\"1\" class=\"dataframe\">\n",
       "  <thead>\n",
       "    <tr style=\"text-align: right;\">\n",
       "      <th>DATE</th>\n",
       "      <th>2017-01-01</th>\n",
       "      <th>2017-01-02</th>\n",
       "      <th>2017-01-03</th>\n",
       "      <th>2017-01-04</th>\n",
       "      <th>2017-01-05</th>\n",
       "      <th>2017-01-06</th>\n",
       "      <th>2017-01-07</th>\n",
       "      <th>2017-01-08</th>\n",
       "      <th>2017-01-09</th>\n",
       "      <th>2017-01-10</th>\n",
       "      <th>...</th>\n",
       "      <th>2017-12-21</th>\n",
       "      <th>2017-12-22</th>\n",
       "      <th>2017-12-23</th>\n",
       "      <th>2017-12-24</th>\n",
       "      <th>2017-12-26</th>\n",
       "      <th>2017-12-27</th>\n",
       "      <th>2017-12-28</th>\n",
       "      <th>2017-12-29</th>\n",
       "      <th>2017-12-30</th>\n",
       "      <th>2017-12-31</th>\n",
       "    </tr>\n",
       "    <tr>\n",
       "      <th>CATEGORY</th>\n",
       "      <th></th>\n",
       "      <th></th>\n",
       "      <th></th>\n",
       "      <th></th>\n",
       "      <th></th>\n",
       "      <th></th>\n",
       "      <th></th>\n",
       "      <th></th>\n",
       "      <th></th>\n",
       "      <th></th>\n",
       "      <th></th>\n",
       "      <th></th>\n",
       "      <th></th>\n",
       "      <th></th>\n",
       "      <th></th>\n",
       "      <th></th>\n",
       "      <th></th>\n",
       "      <th></th>\n",
       "      <th></th>\n",
       "      <th></th>\n",
       "      <th></th>\n",
       "    </tr>\n",
       "  </thead>\n",
       "  <tbody>\n",
       "    <tr>\n",
       "      <th>A</th>\n",
       "      <td>0.004912</td>\n",
       "      <td>0.447807</td>\n",
       "      <td>0.403220</td>\n",
       "      <td>0.313396</td>\n",
       "      <td>0.436125</td>\n",
       "      <td>0.439983</td>\n",
       "      <td>0.558060</td>\n",
       "      <td>0.275012</td>\n",
       "      <td>0.320853</td>\n",
       "      <td>0.314568</td>\n",
       "      <td>...</td>\n",
       "      <td>0.557966</td>\n",
       "      <td>0.724180</td>\n",
       "      <td>0.715966</td>\n",
       "      <td>0.391597</td>\n",
       "      <td>0.068200</td>\n",
       "      <td>0.300933</td>\n",
       "      <td>0.414737</td>\n",
       "      <td>0.519510</td>\n",
       "      <td>0.543478</td>\n",
       "      <td>0.409801</td>\n",
       "    </tr>\n",
       "    <tr>\n",
       "      <th>B</th>\n",
       "      <td>0.004351</td>\n",
       "      <td>0.509857</td>\n",
       "      <td>0.468754</td>\n",
       "      <td>0.385990</td>\n",
       "      <td>0.354477</td>\n",
       "      <td>0.378956</td>\n",
       "      <td>0.526566</td>\n",
       "      <td>0.319587</td>\n",
       "      <td>0.326482</td>\n",
       "      <td>0.298820</td>\n",
       "      <td>...</td>\n",
       "      <td>0.495192</td>\n",
       "      <td>0.603283</td>\n",
       "      <td>0.543413</td>\n",
       "      <td>0.241619</td>\n",
       "      <td>0.054657</td>\n",
       "      <td>0.259064</td>\n",
       "      <td>0.294566</td>\n",
       "      <td>0.370296</td>\n",
       "      <td>0.385281</td>\n",
       "      <td>0.287949</td>\n",
       "    </tr>\n",
       "    <tr>\n",
       "      <th>C</th>\n",
       "      <td>0.004666</td>\n",
       "      <td>0.379042</td>\n",
       "      <td>0.333581</td>\n",
       "      <td>0.300645</td>\n",
       "      <td>0.347039</td>\n",
       "      <td>0.387062</td>\n",
       "      <td>0.552445</td>\n",
       "      <td>0.318345</td>\n",
       "      <td>0.310253</td>\n",
       "      <td>0.277943</td>\n",
       "      <td>...</td>\n",
       "      <td>0.626061</td>\n",
       "      <td>0.781413</td>\n",
       "      <td>0.766017</td>\n",
       "      <td>0.397122</td>\n",
       "      <td>0.095646</td>\n",
       "      <td>0.340172</td>\n",
       "      <td>0.390546</td>\n",
       "      <td>0.489707</td>\n",
       "      <td>0.545709</td>\n",
       "      <td>0.433675</td>\n",
       "    </tr>\n",
       "    <tr>\n",
       "      <th>D</th>\n",
       "      <td>0.006285</td>\n",
       "      <td>0.541297</td>\n",
       "      <td>0.463497</td>\n",
       "      <td>0.330021</td>\n",
       "      <td>0.417888</td>\n",
       "      <td>0.450414</td>\n",
       "      <td>0.601350</td>\n",
       "      <td>0.356504</td>\n",
       "      <td>0.339361</td>\n",
       "      <td>0.304032</td>\n",
       "      <td>...</td>\n",
       "      <td>0.524424</td>\n",
       "      <td>0.663581</td>\n",
       "      <td>0.658580</td>\n",
       "      <td>0.337703</td>\n",
       "      <td>0.096517</td>\n",
       "      <td>0.357565</td>\n",
       "      <td>0.451960</td>\n",
       "      <td>0.569261</td>\n",
       "      <td>0.630645</td>\n",
       "      <td>0.474308</td>\n",
       "    </tr>\n",
       "  </tbody>\n",
       "</table>\n",
       "<p>4 rows × 364 columns</p>\n",
       "</div>"
      ],
      "text/plain": [
       "DATE      2017-01-01  2017-01-02  2017-01-03  2017-01-04  2017-01-05  \\\n",
       "CATEGORY                                                               \n",
       "A           0.004912    0.447807    0.403220    0.313396    0.436125   \n",
       "B           0.004351    0.509857    0.468754    0.385990    0.354477   \n",
       "C           0.004666    0.379042    0.333581    0.300645    0.347039   \n",
       "D           0.006285    0.541297    0.463497    0.330021    0.417888   \n",
       "\n",
       "DATE      2017-01-06  2017-01-07  2017-01-08  2017-01-09  2017-01-10  ...  \\\n",
       "CATEGORY                                                              ...   \n",
       "A           0.439983    0.558060    0.275012    0.320853    0.314568  ...   \n",
       "B           0.378956    0.526566    0.319587    0.326482    0.298820  ...   \n",
       "C           0.387062    0.552445    0.318345    0.310253    0.277943  ...   \n",
       "D           0.450414    0.601350    0.356504    0.339361    0.304032  ...   \n",
       "\n",
       "DATE      2017-12-21  2017-12-22  2017-12-23  2017-12-24  2017-12-26  \\\n",
       "CATEGORY                                                               \n",
       "A           0.557966    0.724180    0.715966    0.391597    0.068200   \n",
       "B           0.495192    0.603283    0.543413    0.241619    0.054657   \n",
       "C           0.626061    0.781413    0.766017    0.397122    0.095646   \n",
       "D           0.524424    0.663581    0.658580    0.337703    0.096517   \n",
       "\n",
       "DATE      2017-12-27  2017-12-28  2017-12-29  2017-12-30  2017-12-31  \n",
       "CATEGORY                                                              \n",
       "A           0.300933    0.414737    0.519510    0.543478    0.409801  \n",
       "B           0.259064    0.294566    0.370296    0.385281    0.287949  \n",
       "C           0.340172    0.390546    0.489707    0.545709    0.433675  \n",
       "D           0.357565    0.451960    0.569261    0.630645    0.474308  \n",
       "\n",
       "[4 rows x 364 columns]"
      ]
     },
     "execution_count": 23,
     "metadata": {},
     "output_type": "execute_result"
    }
   ],
   "source": [
    "# Pivot dataframes to represent time series\n",
    "sales_pivot_euclid = sales_df.pivot(index='CATEGORY', columns='DATE', values='MARGIN')\n",
    "sales_pivot_euclid.head()"
   ]
  },
  {
   "cell_type": "code",
   "execution_count": 24,
   "metadata": {},
   "outputs": [
    {
     "data": {
      "text/plain": [
       "array([1.50714476, 1.54642918, 1.07760538, 1.46454713, 1.6409195 ,\n",
       "       1.9760092 ])"
      ]
     },
     "execution_count": 24,
     "metadata": {},
     "output_type": "execute_result"
    }
   ],
   "source": [
    "# Computes euclidean pairwise distances between observations in n-dimensional space\n",
    "pdist_euclid = scipydist.pdist(sales_pivot_euclid, metric='euclidean') \n",
    "pdist_euclid"
   ]
  },
  {
   "cell_type": "code",
   "execution_count": 25,
   "metadata": {},
   "outputs": [
    {
     "data": {
      "text/plain": [
       "array([[0.        , 1.50714476, 1.54642918, 1.07760538],\n",
       "       [1.50714476, 0.        , 1.46454713, 1.6409195 ],\n",
       "       [1.54642918, 1.46454713, 0.        , 1.9760092 ],\n",
       "       [1.07760538, 1.6409195 , 1.9760092 , 0.        ]])"
      ]
     },
     "execution_count": 25,
     "metadata": {},
     "output_type": "execute_result"
    }
   ],
   "source": [
    "# Shows in square (matrix) form\n",
    "pdist_euclid_squareform = scipydist.squareform(pdist_euclid)\n",
    "pdist_euclid_squareform"
   ]
  },
  {
   "cell_type": "code",
   "execution_count": 26,
   "metadata": {},
   "outputs": [
    {
     "data": {
      "image/png": "[encoded data removed]",
      "text/plain": [
       "<Figure size 576x576 with 2 Axes>"
      ]
     },
     "metadata": {
      "needs_background": "light"
     },
     "output_type": "display_data"
    }
   ],
   "source": [
    "plt.figure(figsize=(8,8))\n",
    "plt.imshow(pdist_euclid_squareform)\n",
    "cbar = plt.colorbar()\n",
    "cbar.set_label('Eculidean Distance')"
   ]
  },
  {
   "cell_type": "markdown",
   "metadata": {},
   "source": [
    "### Clustering"
   ]
  },
  {
   "cell_type": "code",
   "execution_count": 27,
   "metadata": {},
   "outputs": [],
   "source": [
    "# Performs hierarchical/agglomerative clustering\n",
    "clusters_hac = hac.linkage(pdist_euclid, method='complete')"
   ]
  },
  {
   "cell_type": "code",
   "execution_count": 28,
   "metadata": {},
   "outputs": [
    {
     "data": {
      "image/png": "[encoded data removed]",
      "text/plain": [
       "<Figure size 1800x720 with 1 Axes>"
      ]
     },
     "metadata": {
      "needs_background": "light"
     },
     "output_type": "display_data"
    }
   ],
   "source": [
    "plt.figure(figsize=(25, 10))\n",
    "\n",
    "dendogram = hac.dendrogram(clusters_hac, labels=sales_pivot_euclid.index)\n",
    "\n",
    "plt.title('Hierarchical Clustering Dendrogram', fontsize=font_size)\n",
    "plt.xlabel('Category', fontsize=font_size)\n",
    "plt.ylabel('Distance', fontsize=font_size)\n",
    "plt.xticks(fontsize=font_size)\n",
    "plt.yticks(fontsize=font_size);"
   ]
  }
 ],
 "metadata": {
  "kernelspec": {
   "display_name": "Python 3",
   "language": "python",
   "name": "python3"
  },
  "language_info": {
   "codemirror_mode": {
    "name": "ipython",
    "version": 3
   },
   "file_extension": ".py",
   "mimetype": "text/x-python",
   "name": "python",
   "nbconvert_exporter": "python",
   "pygments_lexer": "ipython3",
   "version": "3.7.3"
  }
 },
 "nbformat": 4,
 "nbformat_minor": 2
}
